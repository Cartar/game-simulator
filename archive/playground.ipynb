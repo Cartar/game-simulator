{
 "cells": [
  {
   "cell_type": "code",
   "execution_count": 3,
   "id": "237a6157-0f55-4c6f-a188-fdde40866e0e",
   "metadata": {},
   "outputs": [],
   "source": [
    "import random\n",
    "from math import ceil, floor\n",
    "\n",
    "class player:\n",
    "    def __init__(\n",
    "        self,\n",
    "        max_cash_utilization,\n",
    "        max_crypto_utilization,\n",
    "        less_max_crypto_threshold,\n",
    "        starting_card\n",
    "    ):\n",
    "        self.max_cash_utilization = max_cash_utilization # Used in cash bid to know how much cash is OK to give\n",
    "        self.max_crypto_utilization = max_crypto_utilization # Used in crypto bid to know how many cards are OK to be sold\n",
    "        self.less_max_crypto_threshold = less_max_crypto_threshold # Used in crypto bid to know if a card is OK to be sold\n",
    "\n",
    "        self.cash = 100\n",
    "        self.crypto = {\n",
    "            \"C1\": 0,\n",
    "            \"C2\": 0,\n",
    "            \"C3\": 0,\n",
    "            \"C4\": 0,\n",
    "            \"C5\": 0,\n",
    "            \"C6\": 0,\n",
    "            \"B\": 0,\n",
    "        }\n",
    "        self.crypto[starting_card] = 1\n",
    "        self.last_swing_played = None # The last swing (50% up or down) card played\n",
    "\n",
    "    def cash_bid(current_bet=0):\n",
    "        if current_bet >= self.max_cash_utilization:\n",
    "            return None\n",
    "        bet = ceil((random.random() * self.cash * self.max_cash_utilization) / 5)\n",
    "        if bet > current_bet:\n",
    "            return bet\n",
    "        else:\n",
    "            return None\n",
    "    \n",
    "    def crypto_bid(flip, values):\n",
    "        number_of_cards = 0\n",
    "        eligible_cards = []\n",
    "        eligible_values = []\n",
    "        card_value_threshold = 5 * floor(\n",
    "            self.less_max_crypto_threshold * sum(values.values())/len(values.values())\n",
    "        / 5 )\n",
    "        \n",
    "        for card, quantity in self.crypto.items():\n",
    "            if card != flip and values[card] >= card_value_threshold:\n",
    "                for i in range(quantity):\n",
    "                    eligible_cards.append(card)\n",
    "                    eligible_values.append(values[card])\n",
    "                \n",
    "        # Now need to determine all possible bets, order them, eliminate plays above max_crypto_threshold, and return actual cyrpto bet\n",
    "        return None\n",
    "\n",
    "    def bid(flip, current_bet):\n",
    "        \"\"\"returns a tuple of (bet, cash amount, crypto amount, crypto cards)\"\"\"\n",
    "        c_bid, cards = crypto_bid(flip)\n",
    "        if c_bid > current_bet:\n",
    "            return c_bid, 0, c_bid, cards\n",
    "        elif c_bid + self.cash * self.max_cash_utilization > current_bet:\n",
    "            cash = cash_bid(current_bet - c_bid)\n",
    "            if cash + c_bid > current_bet:\n",
    "                return cash + c_bid, cash, c_bid, cards\n",
    "        else:\n",
    "            return 0, 0, 0, []"
   ]
  },
  {
   "cell_type": "code",
   "execution_count": 50,
   "id": "786071e3-2f02-4e48-b674-01654e707149",
   "metadata": {},
   "outputs": [
    {
     "data": {
      "text/plain": [
       "4.5"
      ]
     },
     "execution_count": 50,
     "metadata": {},
     "output_type": "execute_result"
    }
   ],
   "source": [
    "v = {\"c\": 3, \"B\": 6}\n",
    "sum(v.values())/len(v.values())"
   ]
  },
  {
   "cell_type": "code",
   "execution_count": 43,
   "id": "f6179780-1198-411c-af7e-78241f53ba90",
   "metadata": {
    "tags": []
   },
   "outputs": [],
   "source": [
    "def create_game(number_of_players):\n",
    "    players = []\n",
    "    for i in range(number_of_players):\n",
    "        players.append(\n",
    "            player(\n",
    "                0.3, 0.66, 0.66 f\"C{i+1}\"\n",
    "            )\n",
    "        )\n",
    "    \n",
    "    deck = []\n",
    "    for j in range(6):\n",
    "        if j>i:\n",
    "            deck.append(f\"C{j+1}\")\n",
    "\n",
    "    for k in range(6):\n",
    "        deck.append(\"C1\")\n",
    "        deck.append(\"C2\")\n",
    "        deck.append(\"C3\")\n",
    "        deck.append(\"C4\")\n",
    "        deck.append(\"C5\")\n",
    "        deck.append(\"C6\")\n",
    "\n",
    "    random.shuffle(deck)\n",
    "    random.shuffle(deck)\n",
    "\n",
    "    cut = deck[10:]\n",
    "    deck[10:] = []\n",
    "    for l in range(7):\n",
    "        cut.append(\"B\")\n",
    "    random.shuffle(cut)\n",
    "    random.shuffle(cut)\n",
    "    for m in cut:\n",
    "        deck.append(m)\n",
    "    \n",
    "    return players, deck"
   ]
  },
  {
   "cell_type": "code",
   "execution_count": 44,
   "id": "f77096a8-4da8-4602-b838-1c21af1293d0",
   "metadata": {},
   "outputs": [],
   "source": [
    "p, d = create_game(3)"
   ]
  },
  {
   "cell_type": "code",
   "execution_count": null,
   "id": "7d9be612-86f5-4725-8ac3-7728e3907551",
   "metadata": {},
   "outputs": [],
   "source": [
    "def play_a_turn(auctioneer, players, flip):\n",
    "    "
   ]
  }
 ],
 "metadata": {
  "kernelspec": {
   "display_name": "Python 3 (ipykernel)",
   "language": "python",
   "name": "python3"
  },
  "language_info": {
   "codemirror_mode": {
    "name": "ipython",
    "version": 3
   },
   "file_extension": ".py",
   "mimetype": "text/x-python",
   "name": "python",
   "nbconvert_exporter": "python",
   "pygments_lexer": "ipython3",
   "version": "3.10.9"
  }
 },
 "nbformat": 4,
 "nbformat_minor": 5
}
